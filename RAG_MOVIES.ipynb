{
  "nbformat": 4,
  "nbformat_minor": 0,
  "metadata": {
    "colab": {
      "provenance": [],
      "gpuType": "T4"
    },
    "kernelspec": {
      "name": "python3",
      "display_name": "Python 3"
    },
    "language_info": {
      "name": "python"
    },
    "accelerator": "GPU"
  },
  "cells": [
    {
      "cell_type": "markdown",
      "source": [
        "# INITIAL SETUP WORK"
      ],
      "metadata": {
        "id": "Qez9CyKVKGMO"
      }
    },
    {
      "cell_type": "code",
      "source": [
        "!pip3 install virtualenv\n",
        "!virtualenv rag_llm"
      ],
      "metadata": {
        "colab": {
          "base_uri": "https://localhost:8080/"
        },
        "id": "CwfePyEGKJIE",
        "outputId": "e2e67c1e-1894-494a-cdb0-db857ddb8b27"
      },
      "execution_count": null,
      "outputs": [
        {
          "output_type": "stream",
          "name": "stdout",
          "text": [
            "Collecting virtualenv\n",
            "  Downloading virtualenv-20.26.3-py3-none-any.whl (5.7 MB)\n",
            "\u001b[2K     \u001b[90m━━━━━━━━━━━━━━━━━━━━━━━━━━━━━━━━━━━━━━━━\u001b[0m \u001b[32m5.7/5.7 MB\u001b[0m \u001b[31m60.8 MB/s\u001b[0m eta \u001b[36m0:00:00\u001b[0m\n",
            "\u001b[?25hCollecting distlib<1,>=0.3.7 (from virtualenv)\n",
            "  Downloading distlib-0.3.8-py2.py3-none-any.whl (468 kB)\n",
            "\u001b[2K     \u001b[90m━━━━━━━━━━━━━━━━━━━━━━━━━━━━━━━━━━━━━━━━\u001b[0m \u001b[32m468.9/468.9 kB\u001b[0m \u001b[31m36.5 MB/s\u001b[0m eta \u001b[36m0:00:00\u001b[0m\n",
            "\u001b[?25hRequirement already satisfied: filelock<4,>=3.12.2 in /usr/local/lib/python3.10/dist-packages (from virtualenv) (3.15.4)\n",
            "Requirement already satisfied: platformdirs<5,>=3.9.1 in /usr/local/lib/python3.10/dist-packages (from virtualenv) (4.2.2)\n",
            "Installing collected packages: distlib, virtualenv\n",
            "Successfully installed distlib-0.3.8 virtualenv-20.26.3\n",
            "created virtual environment CPython3.10.12.final.0-64 in 738ms\n",
            "  creator CPython3Posix(dest=/content/rag_llm, clear=False, no_vcs_ignore=False, global=False)\n",
            "  seeder FromAppData(download=False, pip=bundle, setuptools=bundle, wheel=bundle, via=copy, app_data_dir=/root/.local/share/virtualenv)\n",
            "    added seed packages: pip==24.1, setuptools==70.1.0, wheel==0.43.0\n",
            "  activators BashActivator,CShellActivator,FishActivator,NushellActivator,PowerShellActivator,PythonActivator\n"
          ]
        }
      ]
    },
    {
      "cell_type": "markdown",
      "source": [
        "We activate the virtual environment"
      ],
      "metadata": {
        "id": "OC8T_VM9KfDy"
      }
    },
    {
      "cell_type": "code",
      "source": [
        "!source /content/rag_llm/bin/activate;"
      ],
      "metadata": {
        "id": "LmYfRQ5jKbNW"
      },
      "execution_count": null,
      "outputs": []
    },
    {
      "cell_type": "markdown",
      "source": [
        "## Installing the Libraries"
      ],
      "metadata": {
        "id": "rljJ1M2oF7AO"
      }
    },
    {
      "cell_type": "markdown",
      "source": [
        "In this part of the code we install the necessary libraries to run the code"
      ],
      "metadata": {
        "id": "w1G6si5FF9jN"
      }
    },
    {
      "cell_type": "code",
      "execution_count": 27,
      "metadata": {
        "colab": {
          "base_uri": "https://localhost:8080/"
        },
        "id": "qpjSnr_FCC84",
        "outputId": "a40dbc33-05df-4a1d-f3a6-704e79d2e24f"
      },
      "outputs": [
        {
          "output_type": "stream",
          "name": "stdout",
          "text": [
            "  Installing build dependencies ... \u001b[?25l\u001b[?25hdone\n",
            "  Getting requirements to build wheel ... \u001b[?25l\u001b[?25hdone\n",
            "  Preparing metadata (pyproject.toml) ... \u001b[?25l\u001b[?25hdone\n"
          ]
        }
      ],
      "source": [
        "\n",
        "%pip install --upgrade --quiet session-info langchain pipreqs openai  tiktoken  python-dotenv transformers    langchain-community langchain-openai neo4j\n",
        "!pip install git+https://github.com/huggingface/transformers -q peft  accelerate bitsandbytes safetensors sentencepiece\n",
        "\n"
      ]
    },
    {
      "cell_type": "code",
      "source": [
        "import session_info\n",
        "session_info.show()"
      ],
      "metadata": {
        "colab": {
          "base_uri": "https://localhost:8080/",
          "height": 34
        },
        "id": "tg-3dWeSLz-f",
        "outputId": "507f2edd-b92e-4763-e0f7-a6bfdeed2c2d"
      },
      "execution_count": null,
      "outputs": [
        {
          "output_type": "execute_result",
          "data": {
            "text/plain": [
              "<IPython.core.display.HTML object>"
            ],
            "text/html": [
              "<details>\n",
              "<summary>Click to view session information</summary>\n",
              "<pre>\n",
              "-----\n",
              "google              NA\n",
              "langchain_community 0.2.6\n",
              "session_info        1.0.0\n",
              "-----\n",
              "</pre>\n",
              "<details>\n",
              "<summary>Click to view modules imported as dependencies</summary>\n",
              "<pre>\n",
              "Cython              3.0.10\n",
              "PIL                 9.4.0\n",
              "backcall            0.2.0\n",
              "certifi             2024.06.02\n",
              "cffi                1.16.0\n",
              "chardet             5.2.0\n",
              "charset_normalizer  3.3.2\n",
              "cloudpickle         2.2.1\n",
              "cycler              0.12.1\n",
              "cython              3.0.10\n",
              "cython_runtime      NA\n",
              "dateutil            2.8.2\n",
              "debugpy             1.6.6\n",
              "decorator           4.4.2\n",
              "defusedxml          0.7.1\n",
              "entrypoints         0.4\n",
              "httplib2            0.22.0\n",
              "idna                3.7\n",
              "ipykernel           5.5.6\n",
              "ipyparallel         8.8.0\n",
              "ipython_genutils    0.2.0\n",
              "jsonpatch           1.33\n",
              "jsonpointer         3.0.0\n",
              "kiwisolver          1.4.5\n",
              "langchain_core      0.2.10\n",
              "langsmith           0.1.83\n",
              "matplotlib          3.7.1\n",
              "matplotlib_inline   0.1.7\n",
              "mpl_toolkits        NA\n",
              "neo4j               5.22.0\n",
              "numexpr             2.10.1\n",
              "numpy               1.25.2\n",
              "orjson              3.10.5\n",
              "packaging           24.1\n",
              "pandas              2.0.3\n",
              "pexpect             4.9.0\n",
              "pickleshare         0.7.5\n",
              "pkg_resources       NA\n",
              "platformdirs        4.2.2\n",
              "portpicker          NA\n",
              "prompt_toolkit      3.0.47\n",
              "psutil              5.9.5\n",
              "ptyprocess          0.7.0\n",
              "pyarrow             14.0.2\n",
              "pydantic            2.7.4\n",
              "pydev_ipython       NA\n",
              "pydevconsole        NA\n",
              "pydevd              2.9.5\n",
              "pydevd_file_utils   NA\n",
              "pydevd_plugins      NA\n",
              "pydevd_tracing      NA\n",
              "pygments            2.16.1\n",
              "pyparsing           3.1.2\n",
              "pytz                2023.4\n",
              "requests            2.31.0\n",
              "setuptools          67.7.2\n",
              "sitecustomize       NA\n",
              "six                 1.16.0\n",
              "socks               1.7.1\n",
              "sphinxcontrib       NA\n",
              "storemagic          NA\n",
              "tenacity            NA\n",
              "tornado             6.3.3\n",
              "traitlets           5.7.1\n",
              "typing_extensions   NA\n",
              "urllib3             2.0.7\n",
              "wcwidth             0.2.13\n",
              "zmq                 24.0.1\n",
              "zoneinfo            NA\n",
              "</pre>\n",
              "</details> <!-- seems like this ends pre, so might as well be explicit -->\n",
              "<pre>\n",
              "-----\n",
              "IPython             7.34.0\n",
              "jupyter_client      6.1.12\n",
              "jupyter_core        5.7.2\n",
              "notebook            6.5.5\n",
              "-----\n",
              "Python 3.10.12 (main, Nov 20 2023, 15:14:05) [GCC 11.4.0]\n",
              "Linux-6.1.85+-x86_64-with-glibc2.35\n",
              "-----\n",
              "Session information updated at 2024-07-02 11:27\n",
              "</pre>\n",
              "</details>"
            ]
          },
          "metadata": {},
          "execution_count": 14
        }
      ]
    },
    {
      "cell_type": "code",
      "source": [
        "#!pip freeze > requirements.txt"
      ],
      "metadata": {
        "id": "wYOauZ2oLqm0"
      },
      "execution_count": null,
      "outputs": []
    },
    {
      "cell_type": "code",
      "source": [
        "!pipreqs ."
      ],
      "metadata": {
        "colab": {
          "base_uri": "https://localhost:8080/"
        },
        "id": "T9UeMTGhLHgf",
        "outputId": "3f230c3d-6d54-47a8-a2ed-e5ce7e7c94f8"
      },
      "execution_count": null,
      "outputs": [
        {
          "output_type": "stream",
          "name": "stdout",
          "text": [
            "INFO: Not scanning for jupyter notebooks.\n",
            "WARNING: Import named \"__builtin__\" not found locally. Trying to resolve it at the PyPI server.\n",
            "WARNING: Package \"__builtin__\" does not exist or network problems\n",
            "WARNING: Import named \"__pypy__\" not found locally. Trying to resolve it at the PyPI server.\n",
            "WARNING: Package \"__pypy__\" does not exist or network problems\n",
            "WARNING: Import named \"_abcoll\" not found locally. Trying to resolve it at the PyPI server.\n",
            "WARNING: Package \"_abcoll\" does not exist or network problems\n",
            "WARNING: Import named \"_cmsgpack\" not found locally. Trying to resolve it at the PyPI server.\n",
            "WARNING: Package \"_cmsgpack\" does not exist or network problems\n",
            "WARNING: Import named \"_typeshed\" not found locally. Trying to resolve it at the PyPI server.\n",
            "WARNING: Package \"_typeshed\" does not exist or network problems\n",
            "WARNING: Import named \"_winreg\" not found locally. Trying to resolve it at the PyPI server.\n",
            "WARNING: Package \"_winreg\" does not exist or network problems\n",
            "WARNING: Import named \"attr\" not found locally. Trying to resolve it at the PyPI server.\n",
            "WARNING: Import named \"attr\" was resolved to \"attr:0.3.2\" package (https://pypi.org/project/attr/).\n",
            "Please, verify manually the final list of requirements.txt to avoid possible dependency confusions.\n",
            "WARNING: Import named \"colorama\" not found locally. Trying to resolve it at the PyPI server.\n",
            "WARNING: Import named \"colorama\" was resolved to \"colorama:0.4.6\" package (https://pypi.org/project/colorama/).\n",
            "Please, verify manually the final list of requirements.txt to avoid possible dependency confusions.\n",
            "WARNING: Import named \"ConfigParser\" not found locally. Trying to resolve it at the PyPI server.\n",
            "WARNING: Import named \"ConfigParser\" was resolved to \"configparser:7.0.0\" package (https://pypi.org/project/configparser/).\n",
            "Please, verify manually the final list of requirements.txt to avoid possible dependency confusions.\n",
            "WARNING: Import named \"ctags\" not found locally. Trying to resolve it at the PyPI server.\n",
            "WARNING: Package \"ctags\" does not exist or network problems\n",
            "WARNING: Import named \"dl\" not found locally. Trying to resolve it at the PyPI server.\n",
            "WARNING: Import named \"dl\" was resolved to \"dl:0.1.0\" package (https://pypi.org/project/dl/).\n",
            "Please, verify manually the final list of requirements.txt to avoid possible dependency confusions.\n",
            "WARNING: Import named \"dummy_thread\" not found locally. Trying to resolve it at the PyPI server.\n",
            "WARNING: Package \"dummy_thread\" does not exist or network problems\n",
            "WARNING: Import named \"filelock\" not found locally. Trying to resolve it at the PyPI server.\n",
            "WARNING: Import named \"filelock\" was resolved to \"filelock:3.15.4\" package (https://pypi.org/project/filelock/).\n",
            "Please, verify manually the final list of requirements.txt to avoid possible dependency confusions.\n",
            "WARNING: Import named \"htmlentitydefs\" not found locally. Trying to resolve it at the PyPI server.\n",
            "WARNING: Package \"htmlentitydefs\" does not exist or network problems\n",
            "WARNING: Import named \"HTMLParser\" not found locally. Trying to resolve it at the PyPI server.\n",
            "WARNING: Import named \"HTMLParser\" was resolved to \"HTMLParser:0.0.2\" package (https://pypi.org/project/HTMLParser/).\n",
            "Please, verify manually the final list of requirements.txt to avoid possible dependency confusions.\n",
            "WARNING: Import named \"httplib\" not found locally. Trying to resolve it at the PyPI server.\n",
            "WARNING: Package \"httplib\" does not exist or network problems\n",
            "WARNING: Import named \"java\" not found locally. Trying to resolve it at the PyPI server.\n",
            "WARNING: Package \"java\" does not exist or network problems\n",
            "WARNING: Import named \"jnius\" not found locally. Trying to resolve it at the PyPI server.\n",
            "WARNING: Import named \"jnius\" was resolved to \"jnius:1.1.0\" package (https://pypi.org/project/jnius/).\n",
            "Please, verify manually the final list of requirements.txt to avoid possible dependency confusions.\n",
            "WARNING: Import named \"ntlm\" not found locally. Trying to resolve it at the PyPI server.\n",
            "WARNING: Package \"ntlm\" does not exist or network problems\n",
            "WARNING: Import named \"org\" not found locally. Trying to resolve it at the PyPI server.\n",
            "WARNING: Package \"org\" does not exist or network problems\n",
            "WARNING: Import named \"Pillow\" not found locally. Trying to resolve it at the PyPI server.\n",
            "WARNING: Import named \"Pillow\" was resolved to \"pillow:10.4.0\" package (https://pypi.org/project/pillow/).\n",
            "Please, verify manually the final list of requirements.txt to avoid possible dependency confusions.\n",
            "WARNING: Import named \"pyOpenSSL\" not found locally. Trying to resolve it at the PyPI server.\n",
            "WARNING: Import named \"pyOpenSSL\" was resolved to \"pyOpenSSL:24.1.0\" package (https://pypi.org/project/pyOpenSSL/).\n",
            "Please, verify manually the final list of requirements.txt to avoid possible dependency confusions.\n",
            "WARNING: Import named \"Queue\" not found locally. Trying to resolve it at the PyPI server.\n",
            "WARNING: Package \"Queue\" does not exist or network problems\n",
            "WARNING: Import named \"redis\" not found locally. Trying to resolve it at the PyPI server.\n",
            "WARNING: Import named \"redis\" was resolved to \"redis:5.0.7\" package (https://pypi.org/project/redis/).\n",
            "Please, verify manually the final list of requirements.txt to avoid possible dependency confusions.\n",
            "WARNING: Import named \"StringIO\" not found locally. Trying to resolve it at the PyPI server.\n",
            "WARNING: Package \"StringIO\" does not exist or network problems\n",
            "WARNING: Import named \"thread\" not found locally. Trying to resolve it at the PyPI server.\n",
            "WARNING: Import named \"thread\" was resolved to \"thread:2.0.3\" package (https://pypi.org/project/thread/).\n",
            "Please, verify manually the final list of requirements.txt to avoid possible dependency confusions.\n",
            "WARNING: Import named \"tomllib\" not found locally. Trying to resolve it at the PyPI server.\n",
            "WARNING: Package \"tomllib\" does not exist or network problems\n",
            "WARNING: Import named \"trove_classifiers\" not found locally. Trying to resolve it at the PyPI server.\n",
            "WARNING: Import named \"trove_classifiers\" was resolved to \"trove-classifiers:2024.7.1\" package (https://pypi.org/project/trove-classifiers/).\n",
            "Please, verify manually the final list of requirements.txt to avoid possible dependency confusions.\n",
            "WARNING: Import named \"urllib2\" not found locally. Trying to resolve it at the PyPI server.\n",
            "WARNING: Package \"urllib2\" does not exist or network problems\n",
            "WARNING: Import named \"urllib3_secure_extra\" not found locally. Trying to resolve it at the PyPI server.\n",
            "WARNING: Import named \"urllib3_secure_extra\" was resolved to \"urllib3-secure-extra:0.1.0\" package (https://pypi.org/project/urllib3-secure-extra/).\n",
            "Please, verify manually the final list of requirements.txt to avoid possible dependency confusions.\n",
            "WARNING: Import named \"urlparse\" not found locally. Trying to resolve it at the PyPI server.\n",
            "WARNING: Package \"urlparse\" does not exist or network problems\n",
            "WARNING: Import named \"win32api\" not found locally. Trying to resolve it at the PyPI server.\n",
            "WARNING: Package \"win32api\" does not exist or network problems\n",
            "WARNING: Import named \"win32con\" not found locally. Trying to resolve it at the PyPI server.\n",
            "WARNING: Package \"win32con\" does not exist or network problems\n",
            "WARNING: Import named \"xmlrpclib\" not found locally. Trying to resolve it at the PyPI server.\n",
            "WARNING: Import named \"xmlrpclib\" was resolved to \"xmlrpclib:1.0.1\" package (https://pypi.org/project/xmlrpclib/).\n",
            "Please, verify manually the final list of requirements.txt to avoid possible dependency confusions.\n",
            "INFO: Successfully saved requirements file in ./requirements.txt\n"
          ]
        }
      ]
    },
    {
      "cell_type": "markdown",
      "source": [
        "We will use OPENAI embeddings for this section to generate the embeddidings"
      ],
      "metadata": {
        "id": "EdcbZbvtGils"
      }
    },
    {
      "cell_type": "code",
      "source": [],
      "metadata": {
        "id": "6m6oKSNpGhbH"
      },
      "execution_count": null,
      "outputs": []
    },
    {
      "cell_type": "markdown",
      "source": [
        "We connect to the NEO4j database. We are using the cloud version in this instance but you could easily use a local version and run it using docker. We go to the neo4J site and use the database in the sandbox so we will leave the credentials open.\n",
        "\n",
        "You select the option"
      ],
      "metadata": {
        "id": "R2yrRbVLF6Is"
      }
    },
    {
      "cell_type": "code",
      "source": [
        "url =\"bolt://44.200.56.144:7687\"\n",
        "username =\"neo4j\"\n",
        "password = \"displacement-rug-vector\"\n",
        "database = \"neo4j\"\n"
      ],
      "metadata": {
        "id": "Qrjiw19A9TOi"
      },
      "execution_count": 28,
      "outputs": []
    },
    {
      "cell_type": "markdown",
      "source": [
        "If you want to upload a smaller version of the data feel free to use the code below that allows you to download the data and use a smaller version of the dataset and create your own version. The small dataset does not have as many relationships as the large dataset in the default NEO4J database which allows us to calculate things such as Revenue and Ratings"
      ],
      "metadata": {
        "id": "YQgQtIIhpJKr"
      }
    },
    {
      "cell_type": "markdown",
      "source": [
        "#### How you would create nodes and relationships in the data"
      ],
      "metadata": {
        "id": "YJ6WdRS_q00T"
      }
    },
    {
      "cell_type": "code",
      "source": [
        "import pandas as pd\n",
        "\n",
        "# URL of the CSV file\n",
        "csv_url = 'https://raw.githubusercontent.com/tomasonjo/blog-datasets/main/movies/movies_small.csv'\n",
        "\n",
        "# Read the CSV file into a DataFrame\n",
        "df = pd.read_csv(csv_url)\n",
        "\n",
        "# Display the first few rows of the DataFrame\n",
        "print(df.head())\n"
      ],
      "metadata": {
        "colab": {
          "base_uri": "https://localhost:8080/"
        },
        "id": "QD7-B5UzAm2g",
        "outputId": "16ef9211-99ef-4c36-afd6-b70c2a677042"
      },
      "execution_count": 1,
      "outputs": [
        {
          "output_type": "stream",
          "name": "stdout",
          "text": [
            "   movieId    released                        title  \\\n",
            "0        1  1995-11-22                    Toy Story   \n",
            "1        2  1995-12-15                      Jumanji   \n",
            "2        3  1995-12-22             Grumpier Old Men   \n",
            "3        4  1995-12-22            Waiting to Exhale   \n",
            "4        5  1995-12-08  Father of the Bride Part II   \n",
            "\n",
            "                                              actors         director  \\\n",
            "0         Jim Varney|Tim Allen|Tom Hanks|Don Rickles    John Lasseter   \n",
            "1  Robin Williams|Bradley Pierce|Kirsten Dunst|Jo...     Joe Johnston   \n",
            "2  Walter Matthau|Ann-Margret|Jack Lemmon|Sophia ...    Howard Deutch   \n",
            "3  Whitney Houston|Lela Rochon|Angela Bassett|Lor...  Forest Whitaker   \n",
            "4  Steve Martin|Kimberly Williams-Paisley|Diane K...    Charles Shyer   \n",
            "\n",
            "                                        genres  imdbRating  \n",
            "0  Adventure|Animation|Children|Comedy|Fantasy         8.3  \n",
            "1                   Adventure|Children|Fantasy         6.9  \n",
            "2                               Comedy|Romance         6.6  \n",
            "3                         Romance|Drama|Comedy         5.6  \n",
            "4                                       Comedy         5.9  \n"
          ]
        }
      ]
    },
    {
      "cell_type": "markdown",
      "source": [
        "\n",
        "# Import movie information\n",
        "\n",
        "\"\"\"<br>\n",
        "This code iterates through each tow and creates the following nodes: Director, Movie, Actor, Person and Genre\n",
        "\n",
        "The nodes with properties are Movie which has the properties; released, titel and imdbRating\n",
        "\n",
        "THE relationships defined in the code are DIRECTED, ACTED_IN, IN_GENRE\n",
        "\n",
        "<br>\n",
        "<br>\n",
        "\"\"\"\n",
        "movies_query = \"\"\"\n",
        "LOAD CSV WITH HEADERS FROM\n",
        "'https://raw.githubusercontent.com/tomasonjo/blog-datasets/main/movies/movies_small.csv'\n",
        "AS row <br>\n",
        "MERGE (m:Movie {id:row.movieId}) <br>\n",
        "SET m.released = date(row.released), <br>\n",
        "    m.title = row.title,  <br>\n",
        "    m.imdbRating = toFloat(row.imdbRating) <br>\n",
        "FOREACH (director in split(row.director, '|') |  <br>\n",
        "    MERGE (p:Person {name:trim(director)}) <br>\n",
        "    MERGE (p)-[:DIRECTED]->(m)) <br>\n",
        "FOREACH (actor in split(row.actors, '|') |  <br>\n",
        "    MERGE (p:Person {name:trim(actor)}) <br>\n",
        "    MERGE (p)-[:ACTED_IN]->(m)) <br>\n",
        "FOREACH (genre in split(row.genres, '|') |  <br>\n",
        "    MERGE (g:Genre {name:trim(genre)}) <br>\n",
        "    MERGE (m)-[:IN_GENRE]->(g)) <br>\n",
        "\"\"\" <br>\n",
        " <br>\n",
        "graph.query(movies_query)"
      ],
      "metadata": {
        "id": "YQxI24tA3hUP"
      }
    },
    {
      "cell_type": "code",
      "source": [
        "##we load the the movie data into NEO4j\n",
        "\n",
        "\n",
        "from langchain_community.graphs import Neo4jGraph\n",
        "\n",
        "graph = Neo4jGraph(\n",
        "    url = url,\n",
        "    username = username,\n",
        "    password = password,\n",
        "    database = database\n",
        "\n",
        ")\n"
      ],
      "metadata": {
        "id": "UFniFoY7IG2z"
      },
      "execution_count": 29,
      "outputs": []
    },
    {
      "cell_type": "code",
      "source": [
        "movies_query = \"\"\"\n",
        "LOAD CSV WITH HEADERS FROM\n",
        "'https://raw.githubusercontent.com/tomasonjo/blog-datasets/main/movies/movies_small.csv'\n",
        "AS row\n",
        "MERGE (m:Movie {id:row.movieId})\n",
        "SET m.released = date(row.released),\n",
        "    m.title = row.title,\n",
        "    m.imdbRating = toFloat(row.imdbRating)\n",
        "FOREACH (director in split(row.director, '|') |\n",
        "    MERGE (p:Person {name:trim(director)})\n",
        "    MERGE (p)-[:DIRECTED]->(m))\n",
        "FOREACH (actor in split(row.actors, '|') |\n",
        "    MERGE (p:Person {name:trim(actor)})\n",
        "    MERGE (p)-[:ACTED_IN]->(m))\n",
        "FOREACH (genre in split(row.genres, '|') |\n",
        "    MERGE (g:Genre {name:trim(genre)})\n",
        "    MERGE (m)-[:IN_GENRE]->(g))\n",
        "\"\"\"\n",
        "\n",
        "graph.query(movies_query)"
      ],
      "metadata": {
        "colab": {
          "base_uri": "https://localhost:8080/"
        },
        "id": "4PK5-6eYIpu8",
        "outputId": "b2de1d70-6002-4d8f-bada-89b2e9a8ff87"
      },
      "execution_count": 13,
      "outputs": [
        {
          "output_type": "execute_result",
          "data": {
            "text/plain": [
              "[]"
            ]
          },
          "metadata": {},
          "execution_count": 13
        }
      ]
    },
    {
      "cell_type": "markdown",
      "source": [
        "## Graph Schema"
      ],
      "metadata": {
        "id": "gDvA5L1iIKDZ"
      }
    },
    {
      "cell_type": "markdown",
      "source": [
        "Here we look at the graph schema and it shows the expansive relationships, nodes and node properties available in the dataset"
      ],
      "metadata": {
        "id": "9Rddn4rWIMYd"
      }
    },
    {
      "cell_type": "code",
      "source": [
        "graph.refresh_schema()\n",
        "print(graph.schema)"
      ],
      "metadata": {
        "colab": {
          "base_uri": "https://localhost:8080/"
        },
        "id": "tILn8Q-JIISl",
        "outputId": "68492f74-5b37-4b4f-863c-d472f3dccf85"
      },
      "execution_count": 32,
      "outputs": [
        {
          "output_type": "stream",
          "name": "stdout",
          "text": [
            "Node properties:\n",
            "Movie {imdbRating: FLOAT, embedding: LIST, id: STRING, released: DATE, title: STRING}\n",
            "Person {name: STRING}\n",
            "Genre {name: STRING}\n",
            "Relationship properties:\n",
            "\n",
            "The relationships:\n",
            "(:Movie)-[:IN_GENRE]->(:Genre)\n",
            "(:Person)-[:DIRECTED]->(:Movie)\n",
            "(:Person)-[:ACTED_IN]->(:Movie)\n"
          ]
        }
      ]
    },
    {
      "cell_type": "markdown",
      "source": [
        "We validate if the model is working correctly\n",
        "|"
      ],
      "metadata": {
        "id": "dXFKQM17Jq-6"
      }
    },
    {
      "cell_type": "markdown",
      "source": [
        "## We create the Vector Embeddings"
      ],
      "metadata": {
        "id": "zaTSk3vc9g5W"
      }
    },
    {
      "cell_type": "markdown",
      "source": [
        "Vector embeddings will help us query our data better"
      ],
      "metadata": {
        "id": "hLNcE38i9kbK"
      }
    },
    {
      "cell_type": "code",
      "source": [
        "from langchain.vectorstores.neo4j_vector import Neo4jVector\n",
        "from langchain.embeddings.openai import OpenAIEmbeddings\n",
        "embeddings_model = \"text-embedding-3-small\""
      ],
      "metadata": {
        "id": "UKaz2d8w9puw"
      },
      "execution_count": 34,
      "outputs": []
    },
    {
      "cell_type": "code",
      "source": [
        "import os\n",
        "from google.colab import userdata\n",
        "os.environ[\"OPENAI_API_KEY\"] =  userdata.get('OPEN_API_KEY')"
      ],
      "metadata": {
        "id": "ohZIDjB1EdhL"
      },
      "execution_count": 35,
      "outputs": []
    },
    {
      "cell_type": "code",
      "source": [
        "vector_index = Neo4jVector.from_existing_graph(\n",
        "    OpenAIEmbeddings(model=embeddings_model),\n",
        "    url=url,\n",
        "    username=username,\n",
        "    password=password,\n",
        "    index_name='movies',\n",
        "    node_label=\"Movie\",\n",
        "    text_node_properties=['title', 'released', 'imdbRating'],\n",
        "    embedding_node_property='embedding',\n",
        ")"
      ],
      "metadata": {
        "colab": {
          "base_uri": "https://localhost:8080/"
        },
        "id": "TLv7WV0N9tYX",
        "outputId": "62d1d731-43f8-4f1b-c495-afa562664a83"
      },
      "execution_count": 17,
      "outputs": [
        {
          "output_type": "stream",
          "name": "stderr",
          "text": [
            "/usr/local/lib/python3.10/dist-packages/langchain_core/_api/deprecation.py:139: LangChainDeprecationWarning: The class `OpenAIEmbeddings` was deprecated in LangChain 0.0.9 and will be removed in 0.3.0. An updated version of the class exists in the langchain-openai package and should be used instead. To use it run `pip install -U langchain-openai` and import as `from langchain_openai import OpenAIEmbeddings`.\n",
            "  warn_deprecated(\n",
            "WARNING:neo4j.notifications:Received notification from DBMS server: {severity: WARNING} {code: Neo.ClientNotification.Statement.FeatureDeprecationWarning} {category: DEPRECATION} {title: This feature is deprecated and will be removed in future versions.} {description: The query used a deprecated procedure. ('db.create.setVectorProperty' has been replaced by 'db.create.setNodeVectorProperty')} {position: line: 1, column: 67, offset: 66} for query: \"UNWIND $data AS row MATCH (n:`Movie`) WHERE elementId(n) = row.id CALL db.create.setVectorProperty(n, 'embedding', row.embedding) YIELD node RETURN count(*)\"\n"
          ]
        }
      ]
    },
    {
      "cell_type": "code",
      "source": [
        "response = vector_index.similarity_search(\n",
        "    \"what rating does the movie Casino have\"\n",
        ")"
      ],
      "metadata": {
        "id": "19EfzH8lDkNX"
      },
      "execution_count": 36,
      "outputs": []
    },
    {
      "cell_type": "code",
      "source": [
        "response"
      ],
      "metadata": {
        "colab": {
          "base_uri": "https://localhost:8080/"
        },
        "id": "SypnSlI7NW1X",
        "outputId": "4ead712a-86d2-4927-8a67-bddc474eb224"
      },
      "execution_count": 37,
      "outputs": [
        {
          "output_type": "execute_result",
          "data": {
            "text/plain": [
              "[Document(page_content='\\ntitle: Casino\\nreleased: 1995-11-22\\nimdbRating: 8.2'),\n",
              " Document(page_content='\\ntitle: Showgirls\\nreleased: 1995-09-22\\nimdbRating: 4.6'),\n",
              " Document(page_content='\\ntitle: Leaving Las Vegas\\nreleased: 1996-02-09\\nimdbRating: 7.6'),\n",
              " Document(page_content='\\ntitle: Fair Game\\nreleased: 1995-11-03\\nimdbRating: 4.1')]"
            ]
          },
          "metadata": {},
          "execution_count": 37
        }
      ]
    },
    {
      "cell_type": "code",
      "source": [
        "from langchain.chains import RetrievalQA\n",
        "from langchain_openai import ChatOpenAI\n",
        "\n",
        "vector_qa = RetrievalQA.from_chain_type(\n",
        "    llm=ChatOpenAI(temperature=0, model_name=\"gpt-3.5-turbo\"),\n",
        "    chain_type=\"stuff\",\n",
        "    retriever=vector_index.as_retriever()\n",
        ")\n",
        "vector_qa.invoke(\n",
        "    \"what rating does the movie Casino have?\"\n",
        ")\n"
      ],
      "metadata": {
        "colab": {
          "base_uri": "https://localhost:8080/",
          "height": 90
        },
        "id": "W8YTYmZhDxn7",
        "outputId": "a7511a35-2296-4ed3-aa2e-9616a6b9a9b7"
      },
      "execution_count": 22,
      "outputs": [
        {
          "output_type": "stream",
          "name": "stderr",
          "text": [
            "/usr/local/lib/python3.10/dist-packages/langchain_core/_api/deprecation.py:139: LangChainDeprecationWarning: The method `Chain.run` was deprecated in langchain 0.1.0 and will be removed in 0.3.0. Use invoke instead.\n",
            "  warn_deprecated(\n"
          ]
        },
        {
          "output_type": "execute_result",
          "data": {
            "text/plain": [
              "'The movie \"Casino\" has an IMDb rating of 8.2.'"
            ],
            "application/vnd.google.colaboratory.intrinsic+json": {
              "type": "string"
            }
          },
          "metadata": {},
          "execution_count": 22
        }
      ]
    },
    {
      "cell_type": "code",
      "source": [
        "vector_qa.invoke(\n",
        "    \"what is the highest rated movie?\"\n",
        ")\n"
      ],
      "metadata": {
        "colab": {
          "base_uri": "https://localhost:8080/"
        },
        "id": "5JU1C0nePoCx",
        "outputId": "a226ee92-a32d-4edc-dbbf-8f1e85a0cfe8"
      },
      "execution_count": 38,
      "outputs": [
        {
          "output_type": "execute_result",
          "data": {
            "text/plain": [
              "{'query': 'what is the highest rated movie?',\n",
              " 'result': 'The highest rated movie among the provided list is \"Seven\" with an IMDb rating of 8.6.'}"
            ]
          },
          "metadata": {},
          "execution_count": 38
        }
      ]
    },
    {
      "cell_type": "markdown",
      "source": [
        "# Using Cypher Search"
      ],
      "metadata": {
        "id": "0lzKeyurGUk4"
      }
    },
    {
      "cell_type": "code",
      "source": [
        "from langchain.chains import GraphCypherQAChain\n",
        "\n",
        "graph.refresh_schema()\n",
        "\n",
        "cypher_chain = GraphCypherQAChain.from_llm(\n",
        "    cypher_llm = ChatOpenAI(temperature=0, model_name=\"gpt-3.5-turbo\"),\n",
        "    qa_llm = ChatOpenAI(temperature=0, model_name=\"gpt-3.5-turbo\"), graph=graph, verbose=True\n",
        ")\n"
      ],
      "metadata": {
        "id": "E87ksed7GAUA"
      },
      "execution_count": 23,
      "outputs": []
    },
    {
      "cell_type": "code",
      "source": [
        "cypher_chain.invoke(\n",
        "    \"Who acted in the movie Casino\"\n",
        ")"
      ],
      "metadata": {
        "colab": {
          "base_uri": "https://localhost:8080/"
        },
        "id": "9u9kSnfGGF3b",
        "outputId": "cd0df7a3-36be-4ede-aa42-660e159f56b2"
      },
      "execution_count": 39,
      "outputs": [
        {
          "output_type": "stream",
          "name": "stdout",
          "text": [
            "\n",
            "\n",
            "\u001b[1m> Entering new GraphCypherQAChain chain...\u001b[0m\n",
            "Generated Cypher:\n",
            "\u001b[32;1m\u001b[1;3mMATCH (p:Person)-[:ACTED_IN]->(m:Movie {title: \"Casino\"})\n",
            "RETURN p.name\u001b[0m\n",
            "Full Context:\n",
            "\u001b[32;1m\u001b[1;3m[{'p.name': 'Sharon Stone'}, {'p.name': 'Joe Pesci'}, {'p.name': 'James Woods'}, {'p.name': 'Robert De Niro'}]\u001b[0m\n",
            "\n",
            "\u001b[1m> Finished chain.\u001b[0m\n"
          ]
        },
        {
          "output_type": "execute_result",
          "data": {
            "text/plain": [
              "{'query': 'Who acted in the movie Casino',\n",
              " 'result': 'Sharon Stone, Joe Pesci, James Woods, Robert De Niro acted in the movie Casino.'}"
            ]
          },
          "metadata": {},
          "execution_count": 39
        }
      ]
    },
    {
      "cell_type": "markdown",
      "source": [
        "## Knowledge Agent"
      ],
      "metadata": {
        "id": "xdSgJW8vFSzV"
      }
    },
    {
      "cell_type": "code",
      "source": [
        "from langchain_core.prompts import ChatPromptTemplate, MessagesPlaceholder\n",
        "# Using with chat history\n",
        "\n",
        "\n",
        "system = '''Respond to the human as helpfully and accurately as possible. You have access to the following tools:\n",
        "\n",
        "{tools}\n",
        "\n",
        "Use a json blob to specify a tool by providing an action key (tool name) and an action_input key (tool input).\n",
        "\n",
        "Valid \"action\" values: \"Final Answer\" or {tool_names}\n",
        "\n",
        "Provide only ONE action per $JSON_BLOB, as shown:\n",
        "\n",
        "```\n",
        "{{\n",
        "  \"action\": $TOOL_NAME,\n",
        "  \"action_input\": $INPUT\n",
        "}}\n",
        "```\n",
        "\n",
        "Follow this format:\n",
        "\n",
        "Question: input question to answer\n",
        "Thought: consider previous and subsequent steps\n",
        "Action:\n",
        "```\n",
        "$JSON_BLOB\n",
        "```\n",
        "Observation: action result\n",
        "... (repeat Thought/Action/Observation N times)\n",
        "Thought: I know what to respond\n",
        "Action:\n",
        "```\n",
        "{{\n",
        "  \"action\": \"Final Answer\",\n",
        "  \"action_input\": \"Final response to human\"\n",
        "}}\n",
        "\n",
        "Begin! Reminder to ALWAYS respond with a valid json blob of a single action. Use tools if necessary. Respond directly if appropriate. Format is Action:```$JSON_BLOB```then Observation\n",
        "Introduce yourself first and say Hi, I am your local movie boffin and I am here to answer all your questions about movies. Please proceed to ask me a question\n",
        "'''\n",
        "\n",
        "\n",
        "\n",
        "human = '''{input}\n",
        "\n",
        "{agent_scratchpad}\n",
        "\n",
        "(reminder to respond in a JSON blob no matter what)'''\n",
        "\n",
        "prompt = ChatPromptTemplate.from_messages(\n",
        "    [\n",
        "        (\"system\", system),\n",
        "        MessagesPlaceholder(\"chat_history\", optional=True),\n",
        "        (\"human\", human),\n",
        "    ]\n",
        ")"
      ],
      "metadata": {
        "id": "xiIlzOOCaWnL"
      },
      "execution_count": 50,
      "outputs": []
    },
    {
      "cell_type": "code",
      "source": [
        "from langchain.agents import initialize_agent, Tool\n",
        "from langchain.agents import AgentType\n",
        "from langchain.agents import AgentExecutor, create_structured_chat_agent\n",
        "\n",
        "tools = [\n",
        "    Tool(\n",
        "        name=\"Tasks\",\n",
        "        func=vector_qa.run,\n",
        "        description=\"\"\"Useful when you need to answer questions about movies\n",
        "        and their title as well as their rating and the year they were released\n",
        "        Use full question as input.\n",
        "        \"\"\",\n",
        "    ),\n",
        "    Tool(\n",
        "        name=\"Graph\",\n",
        "        func=cypher_chain.run,\n",
        "        description=\"\"\"Useful when you need to answer questions movies and their genres, their directors\n",
        "        or any complex caluclations that you would need to such as counting movies people appear in.\n",
        "        Use full question as input.\n",
        "        \"\"\",\n",
        "    )\n",
        "]"
      ],
      "metadata": {
        "id": "6uMjxA85ahir"
      },
      "execution_count": 51,
      "outputs": []
    },
    {
      "cell_type": "code",
      "source": [
        "from langchain_core.messages import AIMessage, HumanMessage\n",
        "agent = create_structured_chat_agent(ChatOpenAI(temperature=0, model_name=\"gpt-3.5-turbo\"), tools, prompt)\n",
        "agent_executor = AgentExecutor(agent=agent, tools=tools)\n",
        "\n",
        "\n",
        "agent_executor.invoke({\"input\": \"Who acts in the movie Casino\",\n",
        "        })\n"
      ],
      "metadata": {
        "colab": {
          "base_uri": "https://localhost:8080/"
        },
        "id": "Qi4GAazRaep7",
        "outputId": "2dd1b21a-ac26-4a1b-ccba-9ed6c944e312"
      },
      "execution_count": 52,
      "outputs": [
        {
          "output_type": "execute_result",
          "data": {
            "text/plain": [
              "{'input': 'Who acts in the movie Casino',\n",
              " 'output': 'Robert De Niro, Sharon Stone, and Joe Pesci star in the movie Casino.'}"
            ]
          },
          "metadata": {},
          "execution_count": 52
        }
      ]
    },
    {
      "cell_type": "code",
      "source": [
        "from langchain.agents import initialize_agent, Tool\n",
        "from langchain.agents import AgentType\n",
        "\n",
        "tools = [\n",
        "    Tool(\n",
        "        name=\"Tasks\",\n",
        "        func=vector_qa.run,\n",
        "        description=\"\"\"Useful when you need to answer questions about movies\n",
        "        and their title as well as their rating and the year they were released\n",
        "        Use full question as input.\n",
        "        \"\"\",\n",
        "    ),\n",
        "    Tool(\n",
        "        name=\"Graph\",\n",
        "        func=cypher_chain.run,\n",
        "        description=\"\"\"Useful when you need to answer questions movies and their genres, their directors\n",
        "        or any complex caluclations that you would need to such as counting movies people appear in.\n",
        "        Use full question as input.\n",
        "        \"\"\",\n",
        "    )\n",
        "]\n",
        "\n",
        "mrkl = initialize_agent(\n",
        "    tools,\n",
        "    ChatOpenAI(temperature=0, model_name=\"gpt-3.5-turbo\"),\n",
        "    agent=AgentType.OPENAI_FUNCTIONS, verbose=True\n",
        ")"
      ],
      "metadata": {
        "colab": {
          "base_uri": "https://localhost:8080/"
        },
        "id": "fTmhKVdmFSpq",
        "outputId": "9ed563e3-7787-4958-cbe6-2e4a9da0991d"
      },
      "execution_count": 40,
      "outputs": [
        {
          "output_type": "stream",
          "name": "stderr",
          "text": [
            "/usr/local/lib/python3.10/dist-packages/langchain_core/_api/deprecation.py:139: LangChainDeprecationWarning: The function `initialize_agent` was deprecated in LangChain 0.1.0 and will be removed in 0.3.0. Use Use new agent constructor methods like create_react_agent, create_json_agent, create_structured_chat_agent, etc. instead.\n",
            "  warn_deprecated(\n"
          ]
        }
      ]
    },
    {
      "cell_type": "code",
      "source": [
        "response = mrkl.run(\"Which team is assigned to maintain PaymentService?\")\n",
        "print(response)"
      ],
      "metadata": {
        "id": "7AlHwVqRQNLY"
      },
      "execution_count": null,
      "outputs": []
    },
    {
      "cell_type": "code",
      "source": [
        "##we load the the movie data into NEO4j\n",
        "\n",
        "\n",
        "from langchain_community.graphs import Neo4jGraph\n",
        "\n",
        "graph = Neo4jGraph(\n",
        "    url = url,\n",
        "    username = username,\n",
        "    password = password,\n",
        "    database = database\n",
        "\n",
        ")\n",
        "\n",
        "movies_query = \"\"\"\n",
        "LOAD CSV WITH HEADERS FROM\n",
        "'https://raw.githubusercontent.com/tomasonjo/blog-datasets/main/movies/movies_small.csv'\n",
        "AS row\n",
        "MERGE (m:Movie {id:row.movieId})\n",
        "SET m.released = date(row.released),\n",
        "    m.title = row.title,\n",
        "    m.imdbRating = toFloat(row.imdbRating)\n",
        "FOREACH (director in split(row.director, '|') |\n",
        "    MERGE (p:Person {name:trim(director)})\n",
        "    MERGE (p)-[:DIRECTED]->(m))\n",
        "FOREACH (actor in split(row.actors, '|') |\n",
        "    MERGE (p:Person {name:trim(actor)})\n",
        "    MERGE (p)-[:ACTED_IN]->(m))\n",
        "FOREACH (genre in split(row.genres, '|') |\n",
        "    MERGE (g:Genre {name:trim(genre)})\n",
        "    MERGE (m)-[:IN_GENRE]->(g))\n",
        "\"\"\"\n",
        "\n",
        "graph.query(movies_query)\n",
        "\n",
        "\n",
        "\n",
        "##defining vector similarity and vector databses\n",
        "\n",
        "from langchain.vectorstores.neo4j_vector import Neo4jVector\n",
        "from langchain.embeddings.openai import OpenAIEmbeddings\n",
        "embeddings_model = \"text-embedding-3-small\"\n",
        "\n",
        "\n",
        "import os\n",
        "from google.colab import userdata\n",
        "os.environ[\"OPENAI_API_KEY\"] =  userdata.get('OPEN_API_KEY')\n",
        "\n",
        "\n",
        "vector_index = Neo4jVector.from_existing_graph(\n",
        "    OpenAIEmbeddings(model=embeddings_model),\n",
        "    url=url,\n",
        "    username=username,\n",
        "    password=password,\n",
        "    index_name='movies',\n",
        "    node_label=\"Movie\",\n",
        "    text_node_properties=['title', 'released', 'imdbRating'],\n",
        "    embedding_node_property='embedding',\n",
        ")\n",
        "\n",
        "\n",
        "\n",
        "from langchain.chains import RetrievalQA\n",
        "from langchain_openai import ChatOpenAI\n",
        "\n",
        "vector_qa = RetrievalQA.from_chain_type(\n",
        "    llm=ChatOpenAI(temperature=0, model_name=\"gpt-3.5-turbo\"),\n",
        "    chain_type=\"stuff\",\n",
        "    retriever=vector_index.as_retriever()\n",
        ")\n",
        "vector_qa.invoke(\n",
        "    \"what rating does the movie Casino have?\"\n",
        ")\n",
        "\n",
        "\n",
        "\n",
        "from langchain.chains import GraphCypherQAChain\n",
        "\n",
        "##defining cypherchain\n",
        "graph.refresh_schema()\n",
        "\n",
        "cypher_chain = GraphCypherQAChain.from_llm(\n",
        "    cypher_llm = ChatOpenAI(temperature=0, model_name=\"gpt-3.5-turbo\"),\n",
        "    qa_llm = ChatOpenAI(temperature=0, model_name=\"gpt-3.5-turbo\"), graph=graph, verbose=True\n",
        ")\n",
        "\n",
        "##Defining agents\n",
        "\n",
        "from langchain.agents import initialize_agent, Tool\n",
        "from langchain.agents import AgentType\n",
        "\n",
        "tools = [\n",
        "    Tool(\n",
        "        name=\"Tasks\",\n",
        "        func=vector_qa.run,\n",
        "        description=\"\"\"Useful when you need to answer questions about movies\n",
        "        and their title as well as their rating and the year they were released\n",
        "        Use full question as input.\n",
        "        \"\"\",\n",
        "    ),\n",
        "    Tool(\n",
        "        name=\"Graph\",\n",
        "        func=cypher_chain.run,\n",
        "        description=\"\"\"Useful when you need to answer questions movies and their genres, their directors\n",
        "        or any complex caluclations that you would need to such as counting movies people appear in.\n",
        "        Use full question as input.\n",
        "        \"\"\",\n",
        "    )\n",
        "]\n",
        "\n",
        "mrkl = initialize_agent(\n",
        "    tools,\n",
        "    ChatOpenAI(temperature=0, model_name=\"gpt-3.5-turbo\"),\n",
        "    agent=AgentType.OPENAI_FUNCTIONS, verbose=True\n",
        ")\n",
        "\n",
        "\n"
      ],
      "metadata": {
        "id": "SpzNzb40RmVL"
      },
      "execution_count": null,
      "outputs": []
    },
    {
      "cell_type": "code",
      "source": [
        "response = mrkl.run(\"Which team is assigned to maintain PaymentService?\")\n",
        "print(response)"
      ],
      "metadata": {
        "colab": {
          "base_uri": "https://localhost:8080/",
          "height": 159
        },
        "id": "azgbq8zzWcYd",
        "outputId": "5596258d-b792-4082-fcd2-78462b9c689b"
      },
      "execution_count": 26,
      "outputs": [
        {
          "output_type": "error",
          "ename": "NameError",
          "evalue": "name 'mrkl' is not defined",
          "traceback": [
            "\u001b[0;31m---------------------------------------------------------------------------\u001b[0m",
            "\u001b[0;31mNameError\u001b[0m                                 Traceback (most recent call last)",
            "\u001b[0;32m<ipython-input-26-e536146c6b2d>\u001b[0m in \u001b[0;36m<cell line: 1>\u001b[0;34m()\u001b[0m\n\u001b[0;32m----> 1\u001b[0;31m \u001b[0mresponse\u001b[0m \u001b[0;34m=\u001b[0m \u001b[0mmrkl\u001b[0m\u001b[0;34m.\u001b[0m\u001b[0mrun\u001b[0m\u001b[0;34m(\u001b[0m\u001b[0;34m\"Which team is assigned to maintain PaymentService?\"\u001b[0m\u001b[0;34m)\u001b[0m\u001b[0;34m\u001b[0m\u001b[0;34m\u001b[0m\u001b[0m\n\u001b[0m\u001b[1;32m      2\u001b[0m \u001b[0mprint\u001b[0m\u001b[0;34m(\u001b[0m\u001b[0mresponse\u001b[0m\u001b[0;34m)\u001b[0m\u001b[0;34m\u001b[0m\u001b[0;34m\u001b[0m\u001b[0m\n",
            "\u001b[0;31mNameError\u001b[0m: name 'mrkl' is not defined"
          ]
        }
      ]
    },
    {
      "cell_type": "code",
      "source": [],
      "metadata": {
        "id": "YYvLgzUoWc1n"
      },
      "execution_count": null,
      "outputs": []
    }
  ]
}